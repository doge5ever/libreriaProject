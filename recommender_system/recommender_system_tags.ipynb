{
 "cells": [
  {
   "cell_type": "code",
   "execution_count": 1,
   "metadata": {},
   "outputs": [
    {
     "name": "stdout",
     "output_type": "stream",
     "text": [
      "['Academic', 'Add a comment', 'Adult Fiction', 'Art', 'Autobiography', 'Biography', 'Business', 'Childrens', 'Christian', 'Christian Fiction', 'Classics', 'Contemporary', 'Crime', 'Cultural', 'Default', 'Erotica', 'Fantasy', 'Fiction', 'Food and Drink', 'Health', 'Historical', 'Historical Fiction', 'History', 'Horror', 'Humor', 'Music', 'Mystery', 'New Adult', 'Nonfiction', 'Novels', 'Paranormal', 'Parenting', 'Philosophy', 'Poetry', 'Politics', 'Psychology', 'Religion', 'Romance', 'Science', 'Science Fiction', 'Self Help', 'Sequential Art', 'Short Stories', 'Spirituality', 'Sports and Games', 'Suspense', 'Thriller', 'Travel', 'Womens Fiction', 'Young Adult']\n"
     ]
    }
   ],
   "source": [
    "from pymongo import MongoClient\n",
    "\n",
    "client = MongoClient(port=27017)\n",
    "db=client.libreria\n",
    "tags = db[\"books\"].distinct(\"tag\")\n",
    "print(tags)"
   ]
  },
  {
   "cell_type": "code",
   "execution_count": 2,
   "metadata": {},
   "outputs": [],
   "source": [
    "from nltk.corpus import stopwords\n",
    "from nltk.stem import WordNetLemmatizer\n",
    "\n",
    "stop_words = set(stopwords.words('english'))\n",
    "\n",
    "def pipeline(lst):\n",
    "    tokenized = []\n",
    "    lemmatizer = WordNetLemmatizer()\n",
    "    for phrase in lst:\n",
    "        tokens = phrase.split(\" \")\n",
    "        tokenized_phrase = []\n",
    "        for token in tokens:\n",
    "            if token not in stop_words:\n",
    "                lemmatized = lemmatizer.lemmatize(token.lower())\n",
    "                tokenized_phrase.append(lemmatized)\n",
    "        tokenized.append(tokenized_phrase)\n",
    "    return tokenized\n",
    "\n",
    "tokenized_tags = pipeline(tags)"
   ]
  },
  {
   "cell_type": "code",
   "execution_count": 3,
   "metadata": {},
   "outputs": [],
   "source": [
    "import os\n",
    "import numpy as np\n",
    "\n",
    "class GloVe:\n",
    "    # Load the vocabulary and vectors depending on the no of dimensions dim_no.\n",
    "    def __init__(self):\n",
    "        V = []\n",
    "        wordvecs = []\n",
    "        glove_file_name = os.getcwd() + r\"\\glove.6B.300d.txt\"\n",
    "        f = open(glove_file_name, encoding='utf-8')\n",
    "\n",
    "        for line in f:\n",
    "            line = line.rstrip().split(' ')\n",
    "            word = line[0]\n",
    "            vec = [float(num) for num in line[1:]]\n",
    "            V.append(word)\n",
    "            wordvecs.append(vec)\n",
    "        wordvecs = np.asarray(wordvecs)\n",
    "\n",
    "        self.V = V\n",
    "        self.wordvecs = wordvecs\n",
    "    \n",
    "    # Convert a word to a vector.\n",
    "    def word2vec(self, word):\n",
    "        return self.wordvecs[self.V.index(word)]"
   ]
  },
  {
   "cell_type": "code",
   "execution_count": 4,
   "metadata": {},
   "outputs": [],
   "source": [
    "glove = GloVe()"
   ]
  },
  {
   "cell_type": "code",
   "execution_count": 38,
   "metadata": {},
   "outputs": [],
   "source": [
    "vectorized_tags = []\n",
    "for tokens in tokenized_tags:\n",
    "    vectors = []\n",
    "    for token in tokens:\n",
    "        vectors.append(glove.word2vec(token))\n",
    "    average_vector = np.average(vectors, axis=0)\n",
    "    vectorized_tags.append(average_vector)\n",
    "vectorized_tags = np.asarray(vectorized_tags)"
   ]
  },
  {
   "cell_type": "code",
   "execution_count": 50,
   "metadata": {},
   "outputs": [],
   "source": [
    "n = np.shape(vectorized_tags)[0]\n",
    "dist_M = np.zeros([n,n])\n",
    "\n",
    "for i in range(n):\n",
    "    dist_M[i,:] = np.average((vectorized_tags - vectorized_tags[i,:])**2, axis=1)"
   ]
  },
  {
   "cell_type": "code",
   "execution_count": 61,
   "metadata": {},
   "outputs": [
    {
     "data": {
      "image/png": "[encoded data removed]",
      "text/plain": [
       "<Figure size 288x288 with 1 Axes>"
      ]
     },
     "metadata": {
      "needs_background": "light"
     },
     "output_type": "display_data"
    }
   ],
   "source": [
    "from matplotlib import pyplot as plt\n",
    "\n",
    "plt.matshow(dist_M)\n",
    "plt.show()"
   ]
  },
  {
   "cell_type": "code",
   "execution_count": 95,
   "metadata": {},
   "outputs": [],
   "source": [
    "def nearest_index_tags(index, top_k):\n",
    "    dist_score = dist_M[index, :]\n",
    "    return np.argsort(dist_score)[1:top_k+1]"
   ]
  },
  {
   "cell_type": "code",
   "execution_count": 109,
   "metadata": {},
   "outputs": [
    {
     "name": "stdout",
     "output_type": "stream",
     "text": [
      "Nearest tags of 'Health':\n",
      "Self Help\n",
      "New Adult\n",
      "Food and Drink\n",
      "Add a comment\n",
      "Business\n"
     ]
    }
   ],
   "source": [
    "ind_0 = 19\n",
    "\n",
    "print(f\"Nearest tags of '{tags[ind_0]}':\")\n",
    "for index in nearest_index_tags(ind_0, 5):\n",
    "    print(tags[index])"
   ]
  },
  {
   "cell_type": "code",
   "execution_count": null,
   "metadata": {},
   "outputs": [],
   "source": []
  },
  {
   "cell_type": "code",
   "execution_count": null,
   "metadata": {},
   "outputs": [],
   "source": []
  }
 ],
 "metadata": {
  "kernelspec": {
   "display_name": "Python 3.7.3 64-bit",
   "language": "python",
   "name": "python37364bit9a8c86cac8244b958e6c0be85d04348f"
  },
  "language_info": {
   "codemirror_mode": {
    "name": "ipython",
    "version": 3
   },
   "file_extension": ".py",
   "mimetype": "text/x-python",
   "name": "python",
   "nbconvert_exporter": "python",
   "pygments_lexer": "ipython3",
   "version": "3.7.3"
  }
 },
 "nbformat": 4,
 "nbformat_minor": 2
}
